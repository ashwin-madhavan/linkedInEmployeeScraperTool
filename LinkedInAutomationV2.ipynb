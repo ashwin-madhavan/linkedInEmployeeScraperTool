{
 "cells": [
  {
   "cell_type": "code",
   "execution_count": 1,
   "id": "1d59660c",
   "metadata": {
    "scrolled": true
   },
   "outputs": [
    {
     "name": "stdout",
     "output_type": "stream",
     "text": [
      "Requirement already satisfied: selenium in c:\\users\\ashwi\\appdata\\roaming\\python\\python38\\site-packages (3.141.0)\n",
      "Requirement already satisfied: urllib3 in c:\\users\\ashwi\\anaconda3\\lib\\site-packages (from selenium) (1.26.4)\n",
      "Requirement already satisfied: beautifulsoup4 in c:\\users\\ashwi\\anaconda3\\lib\\site-packages (4.9.3)\n",
      "Requirement already satisfied: soupsieve>1.2 in c:\\users\\ashwi\\anaconda3\\lib\\site-packages (from beautifulsoup4) (2.2.1)\n"
     ]
    }
   ],
   "source": [
    "!pip install selenium\n",
    "!pip install beautifulsoup4\n",
    "\n",
    "import os, random, sys, time\n",
    "# from urllib.parse import urlparse\n",
    "from selenium import webdriver\n",
    "from bs4 import BeautifulSoup\n",
    "import xlsxwriter\n",
    "import pandas as pd\n",
    "import csv"
   ]
  },
  {
   "cell_type": "code",
   "execution_count": 11,
   "id": "525f00c0",
   "metadata": {},
   "outputs": [],
   "source": [
    "# Enter location of Chrome driver file on local machine\n",
    "# If you don't have chrome driver download at: https://chromedriver.chromium.org/\n",
    "# >>> stable release >>> select your appropriate OS download\n",
    "browser = webdriver.Chrome(\"C:/Users/ashwi/Desktop/chromedriver.exe\")\n",
    "browser.get(\"https://www.linkedin.com/login?fromSignIn=true&trk=guest_homepage-basic_nav-header-signin\")\n",
    "\n",
    "#Below put your burner linkedin account login info...(must have >20 connections for code to work)\n",
    "username = \"@gmail.com\"\n",
    "password = \"\"\n",
    "\n",
    "elementID = browser.find_element_by_id(\"username\")\n",
    "elementID.send_keys(username)\n",
    "elementID = browser.find_element_by_id(\"password\")\n",
    "elementID.send_keys(password)\n",
    "elementID.submit()\n"
   ]
  },
  {
   "cell_type": "code",
   "execution_count": 3,
   "id": "c03dd96b",
   "metadata": {},
   "outputs": [],
   "source": [
    "# enter name  of csv companies list file from crunchbase \n",
    "datafile = \"companies-7-13-2021.csv\"\n",
    "data = list(csv.reader(open(datafile, encoding='utf-8')))"
   ]
  },
  {
   "cell_type": "code",
   "execution_count": 4,
   "id": "5af598b3",
   "metadata": {},
   "outputs": [],
   "source": [
    "workbook = xlsxwriter.Workbook(\"processedCompanies.xlsx\")\n",
    "worksheet = workbook.add_worksheet()\n",
    "row_num_excel = 1"
   ]
  },
  {
   "cell_type": "code",
   "execution_count": 5,
   "id": "1a2e786a",
   "metadata": {},
   "outputs": [],
   "source": [
    "def add_to_xlsx(list):\n",
    "    for x in range(len(list)):\n",
    "        worksheet.write(chr(x + 65) + str(row_num_excel), list[x])"
   ]
  },
  {
   "cell_type": "code",
   "execution_count": 6,
   "id": "9199cd7b",
   "metadata": {},
   "outputs": [],
   "source": [
    "def getNewProfileIDs(soup, profilesQueued):\n",
    "    profilesID = []\n",
    "#     pav = soup.find('section', {'class': 'artdeco-card pv-browsemap-section__wrapper ember-view'})\n",
    "    pav = soup.find('ul', {'class': 'display-flex list-style-none flex-wrap'})\n",
    "    all_links = pav.findAll('a', {'class':'ember-view'})\n",
    "    for links in all_links:\n",
    "        userID = links.get('href')\n",
    "        if((userID not in profilesQueued)):\n",
    "            profilesID.append(userID)\n",
    "    return profilesID[0::2]"
   ]
  },
  {
   "cell_type": "code",
   "execution_count": 7,
   "id": "6b9e30c7",
   "metadata": {},
   "outputs": [],
   "source": [
    "def getNewProfileDescriptions(soup, profilesQueued):\n",
    "    profilesID = []\n",
    "#     pav = soup.find('section', {'class': 'artdeco-card pv-browsemap-section__wrapper ember-view'})\n",
    "    pav = soup.find('ul', {'class': 'display-flex list-style-none flex-wrap'})\n",
    "    all_divs = pav.findAll('div', {'class':'lt-line-clamp lt-line-clamp--multi-line ember-view'})\n",
    "    for divs in all_divs:\n",
    "        description = str(divs.getText)\n",
    "        intTemp = description.find(\"-webkit-line-clamp:\")\n",
    "        description = description[intTemp + 25:len(description)-17]\n",
    "        profilesID.append(description)\n",
    "        \n",
    "        \n",
    "    \n",
    "    return profilesID"
   ]
  },
  {
   "cell_type": "code",
   "execution_count": 8,
   "id": "c5579dc8",
   "metadata": {},
   "outputs": [],
   "source": [
    "def getNewProfileNames(soup, profilesQueued):\n",
    "    profilesID = []\n",
    "#     pav = soup.find('section', {'class': 'artdeco-card pv-browsemap-section__wrapper ember-view'})\n",
    "    pav = soup.find('ul', {'class': 'display-flex list-style-none flex-wrap'})\n",
    "    all_divs = pav.findAll('div', {'class':'org-people-profile-card__profile-title t-black lt-line-clamp lt-line-clamp--single-line ember-view'})\n",
    "    for divs in all_divs:\n",
    "        name = str(divs.getText)\n",
    "        name = name[157: len(name)-17]\n",
    "        profilesID.append(name)\n",
    "        \n",
    "        \n",
    "    \n",
    "    return profilesID"
   ]
  },
  {
   "cell_type": "code",
   "execution_count": 9,
   "id": "ee655e37",
   "metadata": {},
   "outputs": [],
   "source": [
    "def getListLinksDescription(linkedinLinks, profileDescriptions, names):\n",
    "    joinedList = []\n",
    "    for x in range(len(linkedinLinks)):\n",
    "        temp = [linkedinLinks[x], profileDescriptions[x], names[x]]\n",
    "        joinedList.append(temp)\n",
    "    \n",
    "    return joinedList"
   ]
  },
  {
   "cell_type": "code",
   "execution_count": 10,
   "id": "1228f39d",
   "metadata": {},
   "outputs": [
    {
     "name": "stdout",
     "output_type": "stream",
     "text": [
      "['Outreach', 'https://www.crunchbase.com/organization/outreach', 'https://www.outreach.io/', 'https://www.linkedin.com/company/outreach-saas/']\n",
      "['DataRobot', 'https://www.crunchbase.com/organization/datarobot', 'http://datarobot.com', 'http://www.linkedin.com/company/datarobot']\n",
      "['Olive', 'https://www.crunchbase.com/organization/olive-ai', 'https://www.oliveai.com', 'https://www.linkedin.com/company/hireolive/']\n",
      "finished!\n"
     ]
    }
   ],
   "source": [
    "row = data[0]\n",
    "row[3] = \"Company LinkedIn\"\n",
    "row.append(\"Employee Title\")\n",
    "row.append(\"Employee LinkedIn\")\n",
    "row.append(\"Employee Name\")\n",
    "row.append(\"Strength Index\")\n",
    "\n",
    "add_to_xlsx(row)\n",
    "row_num_excel += 1\n",
    "\n",
    "for x in range(1, 4):\n",
    "    try:\n",
    "        row = data[x]\n",
    "        print(row)\n",
    "        add_to_xlsx(row)\n",
    "        row_num_excel += 1\n",
    "\n",
    "        time.sleep(2)\n",
    "        companyLinkedInLink = row[3]\n",
    "        lastChar = companyLinkedInLink[len(companyLinkedInLink)-1]\n",
    "\n",
    "        if lastChar == \"/\":\n",
    "            filteredPeopleLink = companyLinkedInLink + \"people/?keywords=machine%20learning%20engineer\"\n",
    "        else:\n",
    "            filteredPeopleLink = companyLinkedInLink + \"/people/?keywords=machine%20learning%20engineer\"\n",
    "\n",
    "        browser.get(filteredPeopleLink)\n",
    "        for x in range(0,2):\n",
    "            time.sleep(2)\n",
    "            browser.execute_script(\"window.scrollTo(0, document.body.scrollHeight)\")\n",
    "\n",
    "        profilesQueued = []\n",
    "        linkedinLinks = []\n",
    "        profileDescriptions = []\n",
    "        listLinksDescription = []\n",
    "\n",
    "        linkedinLinks = getNewProfileIDs(BeautifulSoup(browser.page_source), profilesQueued)\n",
    "        profileDescriptions = getNewProfileDescriptions(BeautifulSoup(browser.page_source), profilesQueued)\n",
    "        names = getNewProfileNames(BeautifulSoup(browser.page_source), profilesQueued)\n",
    "\n",
    "        listLinksDescription = getListLinksDescription(linkedinLinks, profileDescriptions, names)\n",
    "\n",
    "        # words to check for strength Index must be added in lowercase\n",
    "        strengthIndexWordCheck = ['machine', 'learning', 'ml', 'engineer', 'director', 'senior', 'vp', 'vice president']\n",
    "        for x in listLinksDescription:\n",
    "            weight = 0\n",
    "            descriptionStr = x[1]\n",
    "            for word in strengthIndexWordCheck:\n",
    "                if word in descriptionStr.lower():\n",
    "                    weight += 1\n",
    "            x.append(weight)\n",
    "\n",
    "        listLinksDescription = sorted(listLinksDescription, key = lambda x: x[3])\n",
    "        listLinksDescription = listLinksDescription[::-1]\n",
    "\n",
    "\n",
    "\n",
    "    #add information to excel sheet\n",
    "        if len(listLinksDescription) < 5:\n",
    "            numProfilesDisplayed = len(listLinksDescription)\n",
    "\n",
    "        else:\n",
    "            numProfilesDisplayed = 5\n",
    "\n",
    "        for x in range(0, numProfilesDisplayed):\n",
    "            listLinksDescription[x][0] = 'https://www.linkedin.com' + listLinksDescription[x][0]\n",
    "            tempSpace = [\"\", \"\", \"\", \"\"]\n",
    "            for y in range(0, len(listLinksDescription[x])):\n",
    "                tempSpace.append(listLinksDescription[x][y])\n",
    "\n",
    "            temp = tempSpace[5]\n",
    "            tempSpace[5] = tempSpace[4]\n",
    "            tempSpace[4] = temp\n",
    "\n",
    "            add_to_xlsx(tempSpace)\n",
    "            row_num_excel += 1\n",
    "    except:\n",
    "        print(\">>>ERROR with company listed above...most likely company LinkedIn Link not provided from crunchbase excel file\\n\")\n",
    "        \n",
    "    time.sleep(10)\n",
    "try:\n",
    "    workbook.close()\n",
    "except:\n",
    "    print(\"processedCompanies.xlsx is open already...please close the file and run this program again\")\n",
    "print('finished!')"
   ]
  },
  {
   "cell_type": "code",
   "execution_count": null,
   "id": "66079386",
   "metadata": {},
   "outputs": [],
   "source": []
  }
 ],
 "metadata": {
  "kernelspec": {
   "display_name": "Python 3",
   "language": "python",
   "name": "python3"
  },
  "language_info": {
   "codemirror_mode": {
    "name": "ipython",
    "version": 3
   },
   "file_extension": ".py",
   "mimetype": "text/x-python",
   "name": "python",
   "nbconvert_exporter": "python",
   "pygments_lexer": "ipython3",
   "version": "3.8.8"
  }
 },
 "nbformat": 4,
 "nbformat_minor": 5
}
